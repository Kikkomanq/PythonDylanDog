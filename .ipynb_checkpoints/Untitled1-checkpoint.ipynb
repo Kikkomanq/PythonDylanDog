{
 "cells": [
  {
   "cell_type": "code",
   "execution_count": 2,
   "metadata": {
    "collapsed": false
   },
   "outputs": [
    {
     "name": "stdout",
     "output_type": "stream",
     "text": [
      "anaconda2\t\t\t\tMusic\r\n",
      "chromedriver_linux64.zip\t\tPictures\r\n",
      "data.html\t\t\t\tPublic\r\n",
      "Desktop\t\t\t\t\tPycharmProjects\r\n",
      "Documents\t\t\t\tTemplates\r\n",
      "Downloads\t\t\t\tUntitled1.ipynb\r\n",
      "examples.desktop\t\t\tUntitled.ipynb\r\n",
      "features\t\t\t\tVideos\r\n",
      "google-chrome-stable_current_amd64.deb\twork\r\n",
      "Lightshot\r\n"
     ]
    }
   ],
   "source": [
    "!ls"
   ]
  },
  {
   "cell_type": "code",
   "execution_count": 3,
   "metadata": {
    "collapsed": false
   },
   "outputs": [
    {
     "name": "stdout",
     "output_type": "stream",
     "text": [
      "Requirement already satisfied: requests in ./anaconda2/lib/python2.7/site-packages\r\n"
     ]
    }
   ],
   "source": [
    "!pip install requests"
   ]
  },
  {
   "cell_type": "code",
   "execution_count": null,
   "metadata": {
    "collapsed": true
   },
   "outputs": [],
   "source": [
    "kupindo_url=(\"https://www.kupindo.com/\")"
   ]
  },
  {
   "cell_type": "code",
   "execution_count": 8,
   "metadata": {
    "collapsed": true
   },
   "outputs": [],
   "source": [
    "url=\"https://www.kupindo.com/pretraga.php?Pretraga=Dylan%20Dog&CeleReci=0&sSort=cena&sSmer=ASC\""
   ]
  },
  {
   "cell_type": "code",
   "execution_count": 14,
   "metadata": {
    "collapsed": true
   },
   "outputs": [],
   "source": [
    "from  lxml import html\n",
    "import requests"
   ]
  },
  {
   "cell_type": "code",
   "execution_count": 10,
   "metadata": {
    "collapsed": false
   },
   "outputs": [],
   "source": [
    "r = requests.get(url)"
   ]
  },
  {
   "cell_type": "code",
   "execution_count": 15,
   "metadata": {
    "collapsed": false
   },
   "outputs": [],
   "source": [
    "tree = html.fromstring(r.content)"
   ]
  },
  {
   "cell_type": "code",
   "execution_count": 64,
   "metadata": {
    "collapsed": false
   },
   "outputs": [],
   "source": [
    "l = tree.xpath(\"//*[@class='item_price'] \")\n"
   ]
  },
  {
   "cell_type": "code",
   "execution_count": null,
   "metadata": {
    "collapsed": true
   },
   "outputs": [],
   "source": [
    "def go_to_website(url):\n",
    "    \n",
    "    "
   ]
  },
  {
   "cell_type": "code",
   "execution_count": 130,
   "metadata": {
    "collapsed": false
   },
   "outputs": [
    {
     "name": "stdout",
     "output_type": "stream",
     "text": [
      "List is ordered\n"
     ]
    }
   ],
   "source": [
    "prices_html_elements = tree.xpath(\"//*[@class='item_price'] \")\n",
    "\n",
    "def ordered_test(prices):    \n",
    "    if prices == sorted(prices): \n",
    "        return True\n",
    "    else: \n",
    "        return False\n",
    "\n",
    "\n",
    "prices = []\n",
    "for item in prices_html_elements:\n",
    "#     print item, item.text_content(), item.text_content().split()\n",
    "    all_prices = [s for s in item.text_content().split() if s.decode('utf8').isdecimal()]\n",
    "    actual_price= all_prices[-1]\n",
    "    \n",
    "    prices.append(float(actual_price))\n",
    "\n",
    "\n",
    "if ordered(prices):\n",
    "    print \"List is ordered\"\n",
    "else:\n",
    "    print \"List is not ordered\"\n"
   ]
  },
  {
   "cell_type": "code",
   "execution_count": 128,
   "metadata": {
    "collapsed": false
   },
   "outputs": [
    {
     "data": {
      "text/plain": [
       "False"
      ]
     },
     "execution_count": 128,
     "metadata": {},
     "output_type": "execute_result"
    }
   ],
   "source": [
    "ordered_test([1, 3, 6, 7, 4, 8])"
   ]
  },
  {
   "cell_type": "code",
   "execution_count": 129,
   "metadata": {
    "collapsed": false
   },
   "outputs": [
    {
     "name": "stdout",
     "output_type": "stream",
     "text": [
      "Object `assert` not found.\n"
     ]
    }
   ],
   "source": [
    "assert?"
   ]
  },
  {
   "cell_type": "code",
   "execution_count": 65,
   "metadata": {
    "collapsed": false,
    "scrolled": true
   },
   "outputs": [
    {
     "data": {
      "text/plain": [
       "[[u'50', u'din', u'30', u'din'],\n",
       " [u'45', u'din', u'36', u'din'],\n",
       " [u'80', u'din', u'56', u'din'],\n",
       " ['60', 'din'],\n",
       " ['79', 'din'],\n",
       " [u'100', u'din', u'80', u'din'],\n",
       " [u'100', u'din', u'80', u'din'],\n",
       " ['80', 'din'],\n",
       " ['80', 'din'],\n",
       " ['85', 'din'],\n",
       " ['89', 'din'],\n",
       " ['89', 'din'],\n",
       " ['89', 'din'],\n",
       " ['89', 'din'],\n",
       " ['89', 'din'],\n",
       " ['89', 'din'],\n",
       " ['89', 'din'],\n",
       " ['89', 'din'],\n",
       " ['89', 'din'],\n",
       " ['89', 'din'],\n",
       " [u'100', u'din', u'90', u'din'],\n",
       " ['90', 'din'],\n",
       " [u'100', u'din', u'90', u'din'],\n",
       " [u'100', u'din', u'90', u'din'],\n",
       " ['90', 'din'],\n",
       " ['90', 'din'],\n",
       " ['95', 'din'],\n",
       " ['99', 'din'],\n",
       " ['99', 'din']]"
      ]
     },
     "execution_count": 65,
     "metadata": {},
     "output_type": "execute_result"
    }
   ],
   "source": [
    "[item.text_content().split() for item in l]\n"
   ]
  },
  {
   "cell_type": "code",
   "execution_count": 44,
   "metadata": {
    "collapsed": false
   },
   "outputs": [
    {
     "data": {
      "text/plain": [
       "u'\\n                                                    50 din\\xa0\\xa0\\xa0\\xa0\\n                            30 din                 '"
      ]
     },
     "execution_count": 44,
     "metadata": {},
     "output_type": "execute_result"
    }
   ],
   "source": [
    "i.text_content()"
   ]
  },
  {
   "cell_type": "code",
   "execution_count": 63,
   "metadata": {
    "collapsed": false
   },
   "outputs": [],
   "source": [
    "tree.xpath('//*[@id=\"container_right\"]/div[4]/span/text()')"
   ]
  },
  {
   "cell_type": "code",
   "execution_count": null,
   "metadata": {
    "collapsed": true
   },
   "outputs": [],
   "source": [
    "def ordertest(A):\n",
    "    for i in xrange(len(A) - 1):\n",
    "        if A[i]<A[i+1]:\n",
    "            return False\n",
    "\n",
    "    return True"
   ]
  }
 ],
 "metadata": {
  "kernelspec": {
   "display_name": "Python 2",
   "language": "python",
   "name": "python2"
  },
  "language_info": {
   "codemirror_mode": {
    "name": "ipython",
    "version": 2
   },
   "file_extension": ".py",
   "mimetype": "text/x-python",
   "name": "python",
   "nbconvert_exporter": "python",
   "pygments_lexer": "ipython2",
   "version": "2.7.13"
  }
 },
 "nbformat": 4,
 "nbformat_minor": 2
}
